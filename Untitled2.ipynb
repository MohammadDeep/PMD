{
  "nbformat": 4,
  "nbformat_minor": 0,
  "metadata": {
    "colab": {
      "provenance": [],
      "authorship_tag": "ABX9TyNCVV1EiX/lO4SFIH56ZVXk",
      "include_colab_link": true
    },
    "kernelspec": {
      "name": "python3",
      "display_name": "Python 3"
    },
    "language_info": {
      "name": "python"
    }
  },
  "cells": [
    {
      "cell_type": "markdown",
      "metadata": {
        "id": "view-in-github",
        "colab_type": "text"
      },
      "source": [
        "<a href=\"https://colab.research.google.com/github/MohammadDeep/PMD/blob/main/Untitled2.ipynb\" target=\"_parent\"><img src=\"https://colab.research.google.com/assets/colab-badge.svg\" alt=\"Open In Colab\"/></a>"
      ]
    },
    {
      "cell_type": "code",
      "execution_count": 1,
      "metadata": {
        "colab": {
          "base_uri": "https://localhost:8080/"
        },
        "id": "Irhrkhi6WFxa",
        "outputId": "3893712f-31f4-4782-f170-872ea2cd6930"
      },
      "outputs": [
        {
          "output_type": "stream",
          "name": "stdout",
          "text": [
            "Cloning into 'PMD'...\n",
            "remote: Enumerating objects: 37, done.\u001b[K\n",
            "remote: Counting objects: 100% (37/37), done.\u001b[K\n",
            "remote: Compressing objects: 100% (31/31), done.\u001b[K\n",
            "remote: Total 37 (delta 12), reused 22 (delta 4), pack-reused 0 (from 0)\u001b[K\n",
            "Receiving objects: 100% (37/37), 20.12 KiB | 2.51 MiB/s, done.\n",
            "Resolving deltas: 100% (12/12), done.\n"
          ]
        }
      ],
      "source": [
        "!git clone https://github.com/MohammadDeep/PMD.git\n"
      ]
    },
    {
      "cell_type": "code",
      "source": [
        "!cd /content/PMD/PMCD"
      ],
      "metadata": {
        "id": "N9moBMPtWLZA"
      },
      "execution_count": 9,
      "outputs": []
    },
    {
      "cell_type": "code",
      "source": [
        "!ls"
      ],
      "metadata": {
        "colab": {
          "base_uri": "https://localhost:8080/"
        },
        "id": "B4JEbAcZWqsy",
        "outputId": "92be1514-d6da-4d1a-ec5f-da68b943eecc"
      },
      "execution_count": 10,
      "outputs": [
        {
          "output_type": "stream",
          "name": "stdout",
          "text": [
            "PMD  sample_data\n"
          ]
        }
      ]
    },
    {
      "cell_type": "code",
      "source": [
        "!git log"
      ],
      "metadata": {
        "colab": {
          "base_uri": "https://localhost:8080/"
        },
        "id": "q1mG2J8IWUzR",
        "outputId": "c67c6f09-aba9-4910-b940-8cd706dee9bb"
      },
      "execution_count": 11,
      "outputs": [
        {
          "output_type": "stream",
          "name": "stdout",
          "text": [
            "fatal: not a git repository (or any of the parent directories): .git\n"
          ]
        }
      ]
    },
    {
      "cell_type": "code",
      "source": [
        "# وارد پوشه مورد نظر شوید\n",
        "%cd /content/PMD"
      ],
      "metadata": {
        "colab": {
          "base_uri": "https://localhost:8080/"
        },
        "id": "vqLOw7DGZQmY",
        "outputId": "cc196078-c439-4ef8-bfd9-ba69dcf25726"
      },
      "execution_count": 15,
      "outputs": [
        {
          "output_type": "stream",
          "name": "stdout",
          "text": [
            "/content/PMD\n"
          ]
        }
      ]
    },
    {
      "cell_type": "code",
      "source": [
        "!git log"
      ],
      "metadata": {
        "colab": {
          "base_uri": "https://localhost:8080/"
        },
        "id": "WjcglLFkW8zX",
        "outputId": "72eafa0b-1db3-4fc5-f9e1-fdffbfc9d8c8"
      },
      "execution_count": 16,
      "outputs": [
        {
          "output_type": "stream",
          "name": "stdout",
          "text": [
            "\u001b[33mcommit 0f5590794f3753f27970ad11ac12663c46348418\u001b[m\u001b[33m (\u001b[m\u001b[1;36mHEAD -> \u001b[m\u001b[1;32mmain\u001b[m\u001b[33m, \u001b[m\u001b[1;31morigin/main\u001b[m\u001b[33m, \u001b[m\u001b[1;31morigin/HEAD\u001b[m\u001b[33m)\u001b[m\n",
            "Merge: 4d5f43e e8b9c22\n",
            "Author: Philip Gouverneur <111120410+gouverneurp@users.noreply.github.com>\n",
            "Date:   Tue May 27 12:01:50 2025 +0200\n",
            "\n",
            "    Merge pull request #3 from gouverneurp/gouverneurp-update-generat-description-in-readmde\n",
            "    \n",
            "    Improved general description in README.md\n",
            "\n",
            "\u001b[33mcommit e8b9c2200b1c34673272986d1f50cc32480d0dd4\u001b[m\n",
            "Author: Philip Gouverneur <111120410+gouverneurp@users.noreply.github.com>\n",
            "Date:   Tue May 27 12:00:17 2025 +0200\n",
            "\n",
            "    Update README.md\n",
            "\n",
            "\u001b[33mcommit 6fd9ff8ebbb5f291d7605e9ece1d373e53d3741d\u001b[m\n",
            "Author: Philip Gouverneur <111120410+gouverneurp@users.noreply.github.com>\n",
            "Date:   Tue May 27 11:58:23 2025 +0200\n",
            "\n",
            "    Improved general description in README.md\n",
            "\n",
            "\u001b[33mcommit 4d5f43e814a7c130560d5884be64c98ac4037374\u001b[m\n",
            "Merge: 2760a77 249ebe9\n",
            "Author: Philip Gouverneur <111120410+gouverneurp@users.noreply.github.com>\n",
            "Date:   Mon May 26 13:46:24 2025 +0200\n",
            "\n",
            "    Merge pull request #2 from gouverneurp/gouverneurp-add-info-in-readme\n",
            "    \n",
            "    Add bibtex of paper and links to README.md\n",
            "\n",
            "\u001b[33mcommit 249ebe9ef9c8d5759ebc53d9635bcfc3e1153380\u001b[m\n",
            "Author: Philip Gouverneur <111120410+gouverneurp@users.noreply.github.com>\n",
            "Date:   Mon May 26 13:43:37 2025 +0200\n",
            "\n",
            "    Add bibtex of paper and links to README.md\n",
            "\n",
            "\u001b[33mcommit 2760a77c0e916b2564d3db3bbccee3916f661131\u001b[m\n",
            "Author: Philip Gouverneur <philipgouverneur@gmx.de>\n",
            "Date:   Fri Jul 12 19:42:28 2024 +0200\n",
            "\n",
            "    Readme++\n",
            "\n",
            "\u001b[33mcommit f5a53ea9c3413f04182a7d58492cbac06dca8d33\u001b[m\n",
            "Author: Philip Gouverneur <philipgouverneur@gmx.de>\n",
            "Date:   Thu Jun 27 18:44:13 2024 +0200\n",
            "\n",
            "    Highlight some parts in readme\n",
            "\n",
            "\u001b[33mcommit d7152885aa5b64e3bc1af18ac341992bc181d8f9\u001b[m\n",
            "Author: Philip Gouverneur <philipgouverneur@gmx.de>\n",
            "Date:   Thu Jun 27 18:41:20 2024 +0200\n",
            "\n",
            "    Init\n"
          ]
        }
      ]
    },
    {
      "cell_type": "code",
      "source": [],
      "metadata": {
        "colab": {
          "base_uri": "https://localhost:8080/"
        },
        "id": "UFIPYHh2XKs3",
        "outputId": "3e5686cf-7df6-43a7-d9dc-1a14b7ff1506"
      },
      "execution_count": 18,
      "outputs": [
        {
          "output_type": "stream",
          "name": "stdout",
          "text": [
            "* \u001b[32mmain\u001b[m\n"
          ]
        }
      ]
    },
    {
      "cell_type": "code",
      "source": [],
      "metadata": {
        "id": "5sJIoTEAZdmc"
      },
      "execution_count": 18,
      "outputs": []
    },
    {
      "cell_type": "code",
      "source": [],
      "metadata": {
        "id": "KLyNrd1dc21b"
      },
      "execution_count": null,
      "outputs": []
    }
  ]
}