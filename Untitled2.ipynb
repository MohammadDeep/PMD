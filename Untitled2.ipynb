{
  "nbformat": 4,
  "nbformat_minor": 0,
  "metadata": {
    "colab": {
      "provenance": [],
      "authorship_tag": "ABX9TyMdUXzPflb8DqXjmqTafEd0",
      "include_colab_link": true
    },
    "kernelspec": {
      "name": "python3",
      "display_name": "Python 3"
    },
    "language_info": {
      "name": "python"
    }
  },
  "cells": [
    {
      "cell_type": "markdown",
      "metadata": {
        "id": "view-in-github",
        "colab_type": "text"
      },
      "source": [
        "<a href=\"https://colab.research.google.com/github/MohammadDeep/PMD/blob/main/Untitled2.ipynb\" target=\"_parent\"><img src=\"https://colab.research.google.com/assets/colab-badge.svg\" alt=\"Open In Colab\"/></a>"
      ]
    },
    {
      "cell_type": "code",
      "execution_count": 26,
      "metadata": {
        "colab": {
          "base_uri": "https://localhost:8080/"
        },
        "id": "Irhrkhi6WFxa",
        "outputId": "726a3f1a-96c7-48d8-d7f2-8850e93a2521"
      },
      "outputs": [
        {
          "output_type": "stream",
          "name": "stdout",
          "text": [
            "fatal: destination path 'PMD' already exists and is not an empty directory.\n"
          ]
        }
      ],
      "source": [
        "!git clone https://github.com/MohammadDeep/PMD.git\n"
      ]
    },
    {
      "cell_type": "code",
      "source": [
        "!cd /content/PMD/PMCD"
      ],
      "metadata": {
        "id": "N9moBMPtWLZA"
      },
      "execution_count": 23,
      "outputs": []
    },
    {
      "cell_type": "code",
      "source": [
        "/content/PMD/PMD"
      ],
      "metadata": {
        "id": "KLKm894Cgms7"
      },
      "execution_count": null,
      "outputs": []
    },
    {
      "cell_type": "code",
      "source": [
        "!ls"
      ],
      "metadata": {
        "colab": {
          "base_uri": "https://localhost:8080/"
        },
        "id": "B4JEbAcZWqsy",
        "outputId": "16d58db0-f160-46b1-f2e1-1425b65a5e92"
      },
      "execution_count": 24,
      "outputs": [
        {
          "output_type": "stream",
          "name": "stdout",
          "text": [
            "LICENSE  PMCD  PMD  PMED  README.md\n"
          ]
        }
      ]
    },
    {
      "cell_type": "code",
      "source": [
        "!git log"
      ],
      "metadata": {
        "colab": {
          "base_uri": "https://localhost:8080/"
        },
        "id": "q1mG2J8IWUzR",
        "outputId": "1f855756-c3b5-4a0c-fd6a-c43cd352a2d9"
      },
      "execution_count": 25,
      "outputs": [
        {
          "output_type": "stream",
          "name": "stdout",
          "text": [
            "\u001b[33mcommit 0f5590794f3753f27970ad11ac12663c46348418\u001b[m\u001b[33m (\u001b[m\u001b[1;36mHEAD -> \u001b[m\u001b[1;32mmain\u001b[m\u001b[33m, \u001b[m\u001b[1;31morigin/main\u001b[m\u001b[33m, \u001b[m\u001b[1;31morigin/HEAD\u001b[m\u001b[33m)\u001b[m\n",
            "Merge: 4d5f43e e8b9c22\n",
            "Author: Philip Gouverneur <111120410+gouverneurp@users.noreply.github.com>\n",
            "Date:   Tue May 27 12:01:50 2025 +0200\n",
            "\n",
            "    Merge pull request #3 from gouverneurp/gouverneurp-update-generat-description-in-readmde\n",
            "    \n",
            "    Improved general description in README.md\n",
            "\n",
            "\u001b[33mcommit e8b9c2200b1c34673272986d1f50cc32480d0dd4\u001b[m\n",
            "Author: Philip Gouverneur <111120410+gouverneurp@users.noreply.github.com>\n",
            "Date:   Tue May 27 12:00:17 2025 +0200\n",
            "\n",
            "    Update README.md\n",
            "\n",
            "\u001b[33mcommit 6fd9ff8ebbb5f291d7605e9ece1d373e53d3741d\u001b[m\n",
            "Author: Philip Gouverneur <111120410+gouverneurp@users.noreply.github.com>\n",
            "Date:   Tue May 27 11:58:23 2025 +0200\n",
            "\n",
            "    Improved general description in README.md\n",
            "\n",
            "\u001b[33mcommit 4d5f43e814a7c130560d5884be64c98ac4037374\u001b[m\n",
            "Merge: 2760a77 249ebe9\n",
            "Author: Philip Gouverneur <111120410+gouverneurp@users.noreply.github.com>\n",
            "Date:   Mon May 26 13:46:24 2025 +0200\n",
            "\n",
            "    Merge pull request #2 from gouverneurp/gouverneurp-add-info-in-readme\n",
            "    \n",
            "    Add bibtex of paper and links to README.md\n",
            "\n",
            "\u001b[33mcommit 249ebe9ef9c8d5759ebc53d9635bcfc3e1153380\u001b[m\n",
            "Author: Philip Gouverneur <111120410+gouverneurp@users.noreply.github.com>\n",
            "Date:   Mon May 26 13:43:37 2025 +0200\n",
            "\n",
            "    Add bibtex of paper and links to README.md\n",
            "\n",
            "\u001b[33mcommit 2760a77c0e916b2564d3db3bbccee3916f661131\u001b[m\n",
            "Author: Philip Gouverneur <philipgouverneur@gmx.de>\n",
            "Date:   Fri Jul 12 19:42:28 2024 +0200\n",
            "\n",
            "    Readme++\n",
            "\n",
            "\u001b[33mcommit f5a53ea9c3413f04182a7d58492cbac06dca8d33\u001b[m\n",
            "Author: Philip Gouverneur <philipgouverneur@gmx.de>\n",
            "Date:   Thu Jun 27 18:44:13 2024 +0200\n",
            "\n",
            "    Highlight some parts in readme\n",
            "\n",
            "\u001b[33mcommit d7152885aa5b64e3bc1af18ac341992bc181d8f9\u001b[m\n",
            "Author: Philip Gouverneur <philipgouverneur@gmx.de>\n",
            "Date:   Thu Jun 27 18:41:20 2024 +0200\n",
            "\n",
            "    Init\n"
          ]
        }
      ]
    },
    {
      "cell_type": "code",
      "source": [
        "# وارد پوشه مورد نظر شوید\n",
        "%cd /content/PMD/PMD"
      ],
      "metadata": {
        "colab": {
          "base_uri": "https://localhost:8080/"
        },
        "id": "vqLOw7DGZQmY",
        "outputId": "c73369fe-af42-4a15-b385-71861ca994ed"
      },
      "execution_count": 27,
      "outputs": [
        {
          "output_type": "stream",
          "name": "stdout",
          "text": [
            "/content/PMD/PMD\n"
          ]
        }
      ]
    },
    {
      "cell_type": "code",
      "source": [
        "!git log"
      ],
      "metadata": {
        "colab": {
          "base_uri": "https://localhost:8080/"
        },
        "id": "WjcglLFkW8zX",
        "outputId": "430a1027-79c8-498f-8aba-776bd8ef76bf"
      },
      "execution_count": 28,
      "outputs": [
        {
          "output_type": "stream",
          "name": "stdout",
          "text": [
            "\u001b[33mcommit a1f583d32f26224c1dd4af25b943c3633983167a\u001b[m\u001b[33m (\u001b[m\u001b[1;36mHEAD -> \u001b[m\u001b[1;32mmain\u001b[m\u001b[33m, \u001b[m\u001b[1;31morigin/main\u001b[m\u001b[33m, \u001b[m\u001b[1;31morigin/HEAD\u001b[m\u001b[33m)\u001b[m\n",
            "Author: Mohammad Balaghi <90974745+MohammadDeep@users.noreply.github.com>\n",
            "Date:   Wed Jul 9 08:11:55 2025 +0330\n",
            "\n",
            "    Delete Untitled2.ipynb\n",
            "    \n",
            "    delet file\n",
            "\n",
            "\u001b[33mcommit 2a6fe602b002f7adc79005e037d1fc858dd8b645\u001b[m\n",
            "Author: Mohammad Balaghi <90974745+MohammadDeep@users.noreply.github.com>\n",
            "Date:   Wed Jul 9 08:06:18 2025 +0330\n",
            "\n",
            "    Update README.md\n",
            "    \n",
            "    add text\n",
            "\n",
            "\u001b[33mcommit 416711229af15e26f402f8a1bae95d77e7eba844\u001b[m\n",
            "Author: Mohammad Balaghi <90974745+MohammadDeep@users.noreply.github.com>\n",
            "Date:   Wed Jul 9 08:04:09 2025 +0330\n",
            "\n",
            "    Creat new data\n",
            "\n",
            "\u001b[33mcommit 0f5590794f3753f27970ad11ac12663c46348418\u001b[m\n",
            "Merge: 4d5f43e e8b9c22\n",
            "Author: Philip Gouverneur <111120410+gouverneurp@users.noreply.github.com>\n",
            "Date:   Tue May 27 12:01:50 2025 +0200\n",
            "\n",
            "    Merge pull request #3 from gouverneurp/gouverneurp-update-generat-description-in-readmde\n",
            "    \n",
            "    Improved general description in README.md\n",
            "\n",
            "\u001b[33mcommit e8b9c2200b1c34673272986d1f50cc32480d0dd4\u001b[m\n",
            "Author: Philip Gouverneur <111120410+gouverneurp@users.noreply.github.com>\n",
            "Date:   Tue May 27 12:00:17 2025 +0200\n",
            "\n",
            "    Update README.md\n",
            "\n",
            "\u001b[33mcommit 6fd9ff8ebbb5f291d7605e9ece1d373e53d3741d\u001b[m\n",
            "Author: Philip Gouverneur <111120410+gouverneurp@users.noreply.github.com>\n",
            "Date:   Tue May 27 11:58:23 2025 +0200\n",
            "\n",
            "    Improved general description in README.md\n",
            "\n",
            "\u001b[33mcommit 4d5f43e814a7c130560d5884be64c98ac4037374\u001b[m\n",
            "Merge: 2760a77 249ebe9\n",
            "Author: Philip Gouverneur <111120410+gouverneurp@users.noreply.github.com>\n",
            "Date:   Mon May 26 13:46:24 2025 +0200\n",
            "\n",
            "    Merge pull request #2 from gouverneurp/gouverneurp-add-info-in-readme\n",
            "    \n",
            "    Add bibtex of paper and links to README.md\n",
            "\n",
            "\u001b[33mcommit 249ebe9ef9c8d5759ebc53d9635bcfc3e1153380\u001b[m\n",
            "Author: Philip Gouverneur <111120410+gouverneurp@users.noreply.github.com>\n",
            "Date:   Mon May 26 13:43:37 2025 +0200\n",
            "\n",
            "    Add bibtex of paper and links to README.md\n",
            "\n",
            "\u001b[33mcommit 2760a77c0e916b2564d3db3bbccee3916f661131\u001b[m\n",
            "Author: Philip Gouverneur <philipgouverneur@gmx.de>\n",
            "Date:   Fri Jul 12 19:42:28 2024 +0200\n",
            "\n",
            "    Readme++\n",
            "\n",
            "\u001b[33mcommit f5a53ea9c3413f04182a7d58492cbac06dca8d33\u001b[m\n",
            "Author: Philip Gouverneur <philipgouverneur@gmx.de>\n",
            "Date:   Thu Jun 27 18:44:13 2024 +0200\n",
            "\n",
            "    Highlight some parts in readme\n",
            "\n",
            "\u001b[33mcommit d7152885aa5b64e3bc1af18ac341992bc181d8f9\u001b[m\n",
            "Author: Philip Gouverneur <philipgouverneur@gmx.de>\n",
            "Date:   Thu Jun 27 18:41:20 2024 +0200\n",
            "\n",
            "    Init\n"
          ]
        }
      ]
    },
    {
      "cell_type": "code",
      "source": [],
      "metadata": {
        "colab": {
          "base_uri": "https://localhost:8080/"
        },
        "id": "UFIPYHh2XKs3",
        "outputId": "3e5686cf-7df6-43a7-d9dc-1a14b7ff1506"
      },
      "execution_count": 18,
      "outputs": [
        {
          "output_type": "stream",
          "name": "stdout",
          "text": [
            "* \u001b[32mmain\u001b[m\n"
          ]
        }
      ]
    },
    {
      "cell_type": "code",
      "source": [],
      "metadata": {
        "id": "5sJIoTEAZdmc"
      },
      "execution_count": 18,
      "outputs": []
    },
    {
      "cell_type": "code",
      "source": [],
      "metadata": {
        "id": "KLyNrd1dc21b"
      },
      "execution_count": null,
      "outputs": []
    }
  ]
}