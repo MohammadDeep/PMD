{
  "nbformat": 4,
  "nbformat_minor": 0,
  "metadata": {
    "colab": {
      "provenance": [],
      "authorship_tag": "ABX9TyMA5P0GNuFZ52m49J6+fbXz",
      "include_colab_link": true
    },
    "kernelspec": {
      "name": "python3",
      "display_name": "Python 3"
    },
    "language_info": {
      "name": "python"
    }
  },
  "cells": [
    {
      "cell_type": "markdown",
      "metadata": {
        "id": "view-in-github",
        "colab_type": "text"
      },
      "source": [
        "<a href=\"https://colab.research.google.com/github/MohammadDeep/PMD/blob/main/Untitled2.ipynb\" target=\"_parent\"><img src=\"https://colab.research.google.com/assets/colab-badge.svg\" alt=\"Open In Colab\"/></a>"
      ]
    },
    {
      "cell_type": "code",
      "execution_count": 29,
      "metadata": {
        "colab": {
          "base_uri": "https://localhost:8080/"
        },
        "id": "Irhrkhi6WFxa",
        "outputId": "adc38ea4-34fc-4325-d2ae-f62874592661"
      },
      "outputs": [
        {
          "output_type": "stream",
          "name": "stdout",
          "text": [
            "/content\n",
            "fatal: destination path 'PMD' already exists and is not an empty directory.\n"
          ]
        }
      ],
      "source": [
        "%cd /content\n",
        "!git clone https://github.com/MohammadDeep/PMD.git\n"
      ]
    },
    {
      "cell_type": "code",
      "source": [
        "%cd /content/PMD"
      ],
      "metadata": {
        "colab": {
          "base_uri": "https://localhost:8080/"
        },
        "id": "J8XU6BbYhgvm",
        "outputId": "73113f7f-d7b9-49fe-ae5b-dfede429a9a2"
      },
      "execution_count": 39,
      "outputs": [
        {
          "output_type": "stream",
          "name": "stdout",
          "text": [
            "/content/PMD\n"
          ]
        }
      ]
    },
    {
      "cell_type": "code",
      "source": [
        "!git pull origin main"
      ],
      "metadata": {
        "colab": {
          "base_uri": "https://localhost:8080/"
        },
        "id": "B4JEbAcZWqsy",
        "outputId": "09c950dd-b8ca-4125-a583-4ce406df1bb7"
      },
      "execution_count": 40,
      "outputs": [
        {
          "output_type": "stream",
          "name": "stdout",
          "text": [
            "remote: Enumerating objects: 13, done.\u001b[K\n",
            "remote: Counting objects:   7% (1/13)\u001b[K\rremote: Counting objects:  15% (2/13)\u001b[K\rremote: Counting objects:  23% (3/13)\u001b[K\rremote: Counting objects:  30% (4/13)\u001b[K\rremote: Counting objects:  38% (5/13)\u001b[K\rremote: Counting objects:  46% (6/13)\u001b[K\rremote: Counting objects:  53% (7/13)\u001b[K\rremote: Counting objects:  61% (8/13)\u001b[K\rremote: Counting objects:  69% (9/13)\u001b[K\rremote: Counting objects:  76% (10/13)\u001b[K\rremote: Counting objects:  84% (11/13)\u001b[K\rremote: Counting objects:  92% (12/13)\u001b[K\rremote: Counting objects: 100% (13/13)\u001b[K\rremote: Counting objects: 100% (13/13), done.\u001b[K\n",
            "remote: Compressing objects:   9% (1/11)\u001b[K\rremote: Compressing objects:  18% (2/11)\u001b[K\rremote: Compressing objects:  27% (3/11)\u001b[K\rremote: Compressing objects:  36% (4/11)\u001b[K\rremote: Compressing objects:  45% (5/11)\u001b[K\rremote: Compressing objects:  54% (6/11)\u001b[K\rremote: Compressing objects:  63% (7/11)\u001b[K\rremote: Compressing objects:  72% (8/11)\u001b[K\rremote: Compressing objects:  81% (9/11)\u001b[K\rremote: Compressing objects:  90% (10/11)\u001b[K\rremote: Compressing objects: 100% (11/11)\u001b[K\rremote: Compressing objects: 100% (11/11), done.\u001b[K\n",
            "remote: Total 11 (delta 6), reused 0 (delta 0), pack-reused 0 (from 0)\u001b[K\n",
            "Unpacking objects:   9% (1/11)\rUnpacking objects:  18% (2/11)\rUnpacking objects:  27% (3/11)\rUnpacking objects:  36% (4/11)\rUnpacking objects:  45% (5/11)\rUnpacking objects:  54% (6/11)\rUnpacking objects:  63% (7/11)\rUnpacking objects:  72% (8/11)\rUnpacking objects:  81% (9/11)\rUnpacking objects:  90% (10/11)\rUnpacking objects: 100% (11/11)\rUnpacking objects: 100% (11/11), 4.88 KiB | 1.22 MiB/s, done.\n",
            "From https://github.com/MohammadDeep/PMD\n",
            " * branch            main       -> FETCH_HEAD\n",
            "   0f55907..86a868e  main       -> origin/main\n",
            "Updating 0f55907..86a868e\n",
            "Fast-forward\n",
            " README.md       |   2 \u001b[32m+\u001b[m\u001b[31m-\u001b[m\n",
            " Untitled2.ipynb | 333 \u001b[32m++++++++++++++++++++++++++++++++++++++++++++++++++++++++\u001b[m\n",
            " 2 files changed, 334 insertions(+), 1 deletion(-)\n",
            " create mode 100644 Untitled2.ipynb\n"
          ]
        }
      ]
    },
    {
      "cell_type": "code",
      "source": [
        "!git log"
      ],
      "metadata": {
        "colab": {
          "base_uri": "https://localhost:8080/"
        },
        "id": "q1mG2J8IWUzR",
        "outputId": "c0a184cb-1ce6-4a15-fa50-6c981353066e"
      },
      "execution_count": 41,
      "outputs": [
        {
          "output_type": "stream",
          "name": "stdout",
          "text": [
            "\u001b[33mcommit 86a868e0d3d10450685807e02e358952bfb65aaa\u001b[m\u001b[33m (\u001b[m\u001b[1;36mHEAD -> \u001b[m\u001b[1;32mmain\u001b[m\u001b[33m, \u001b[m\u001b[1;31morigin/main\u001b[m\u001b[33m, \u001b[m\u001b[1;31morigin/HEAD\u001b[m\u001b[33m)\u001b[m\n",
            "Author: Mohammad Balaghi <90974745+MohammadDeep@users.noreply.github.com>\n",
            "Date:   Wed Jul 9 08:19:03 2025 +0330\n",
            "\n",
            "    Created using Colab\n",
            "\n",
            "\u001b[33mcommit a1f583d32f26224c1dd4af25b943c3633983167a\u001b[m\n",
            "Author: Mohammad Balaghi <90974745+MohammadDeep@users.noreply.github.com>\n",
            "Date:   Wed Jul 9 08:11:55 2025 +0330\n",
            "\n",
            "    Delete Untitled2.ipynb\n",
            "    \n",
            "    delet file\n",
            "\n",
            "\u001b[33mcommit 2a6fe602b002f7adc79005e037d1fc858dd8b645\u001b[m\n",
            "Author: Mohammad Balaghi <90974745+MohammadDeep@users.noreply.github.com>\n",
            "Date:   Wed Jul 9 08:06:18 2025 +0330\n",
            "\n",
            "    Update README.md\n",
            "    \n",
            "    add text\n",
            "\n",
            "\u001b[33mcommit 416711229af15e26f402f8a1bae95d77e7eba844\u001b[m\n",
            "Author: Mohammad Balaghi <90974745+MohammadDeep@users.noreply.github.com>\n",
            "Date:   Wed Jul 9 08:04:09 2025 +0330\n",
            "\n",
            "    Creat new data\n",
            "\n",
            "\u001b[33mcommit 0f5590794f3753f27970ad11ac12663c46348418\u001b[m\n",
            "Merge: 4d5f43e e8b9c22\n",
            "Author: Philip Gouverneur <111120410+gouverneurp@users.noreply.github.com>\n",
            "Date:   Tue May 27 12:01:50 2025 +0200\n",
            "\n",
            "    Merge pull request #3 from gouverneurp/gouverneurp-update-generat-description-in-readmde\n",
            "    \n",
            "    Improved general description in README.md\n",
            "\n",
            "\u001b[33mcommit e8b9c2200b1c34673272986d1f50cc32480d0dd4\u001b[m\n",
            "Author: Philip Gouverneur <111120410+gouverneurp@users.noreply.github.com>\n",
            "Date:   Tue May 27 12:00:17 2025 +0200\n",
            "\n",
            "    Update README.md\n",
            "\n",
            "\u001b[33mcommit 6fd9ff8ebbb5f291d7605e9ece1d373e53d3741d\u001b[m\n",
            "Author: Philip Gouverneur <111120410+gouverneurp@users.noreply.github.com>\n",
            "Date:   Tue May 27 11:58:23 2025 +0200\n",
            "\n",
            "    Improved general description in README.md\n",
            "\n",
            "\u001b[33mcommit 4d5f43e814a7c130560d5884be64c98ac4037374\u001b[m\n",
            "Merge: 2760a77 249ebe9\n",
            "Author: Philip Gouverneur <111120410+gouverneurp@users.noreply.github.com>\n",
            "Date:   Mon May 26 13:46:24 2025 +0200\n",
            "\n",
            "    Merge pull request #2 from gouverneurp/gouverneurp-add-info-in-readme\n",
            "    \n",
            "    Add bibtex of paper and links to README.md\n",
            "\n",
            "\u001b[33mcommit 249ebe9ef9c8d5759ebc53d9635bcfc3e1153380\u001b[m\n",
            "Author: Philip Gouverneur <111120410+gouverneurp@users.noreply.github.com>\n",
            "Date:   Mon May 26 13:43:37 2025 +0200\n",
            "\n",
            "    Add bibtex of paper and links to README.md\n",
            "\n",
            "\u001b[33mcommit 2760a77c0e916b2564d3db3bbccee3916f661131\u001b[m\n",
            "Author: Philip Gouverneur <philipgouverneur@gmx.de>\n",
            "Date:   Fri Jul 12 19:42:28 2024 +0200\n",
            "\n",
            "    Readme++\n",
            "\n",
            "\u001b[33mcommit f5a53ea9c3413f04182a7d58492cbac06dca8d33\u001b[m\n",
            "Author: Philip Gouverneur <philipgouverneur@gmx.de>\n",
            "Date:   Thu Jun 27 18:44:13 2024 +0200\n",
            "\n",
            "    Highlight some parts in readme\n",
            "\n",
            "\u001b[33mcommit d7152885aa5b64e3bc1af18ac341992bc181d8f9\u001b[m\n",
            "Author: Philip Gouverneur <philipgouverneur@gmx.de>\n",
            "Date:   Thu Jun 27 18:41:20 2024 +0200\n",
            "\n",
            "    Init\n"
          ]
        }
      ]
    },
    {
      "cell_type": "code",
      "source": [
        "!git status"
      ],
      "metadata": {
        "colab": {
          "base_uri": "https://localhost:8080/"
        },
        "id": "vqLOw7DGZQmY",
        "outputId": "a51f8f6a-f70c-48fa-acb8-894944aa66a0"
      },
      "execution_count": 42,
      "outputs": [
        {
          "output_type": "stream",
          "name": "stdout",
          "text": [
            "On branch main\n",
            "Your branch is up to date with 'origin/main'.\n",
            "\n",
            "Untracked files:\n",
            "  (use \"git add <file>...\" to include in what will be committed)\n",
            "\t\u001b[31mPMD/\u001b[m\n",
            "\t\u001b[31mPMED/heater.ipynb\u001b[m\n",
            "\n",
            "nothing added to commit but untracked files present (use \"git add\" to track)\n"
          ]
        }
      ]
    },
    {
      "cell_type": "code",
      "source": [
        "!git add PMED/heater.ipynb"
      ],
      "metadata": {
        "id": "Ao22Lez6i_Nv"
      },
      "execution_count": 43,
      "outputs": []
    },
    {
      "cell_type": "code",
      "source": [
        "!git status"
      ],
      "metadata": {
        "id": "CchTECbXjGgm",
        "outputId": "3b596d6a-27b5-477a-e4bc-278410df5927",
        "colab": {
          "base_uri": "https://localhost:8080/"
        }
      },
      "execution_count": 45,
      "outputs": [
        {
          "output_type": "stream",
          "name": "stdout",
          "text": [
            "On branch main\n",
            "Your branch is up to date with 'origin/main'.\n",
            "\n",
            "Changes to be committed:\n",
            "  (use \"git restore --staged <file>...\" to unstage)\n",
            "\t\u001b[32mnew file:   PMED/heater.ipynb\u001b[m\n",
            "\n",
            "Untracked files:\n",
            "  (use \"git add <file>...\" to include in what will be committed)\n",
            "\t\u001b[31mPMD/\u001b[m\n",
            "\n"
          ]
        }
      ]
    },
    {
      "cell_type": "code",
      "source": [
        "!git commit -m \"git notebook to\""
      ],
      "metadata": {
        "id": "OwhnVg1IjKBe",
        "outputId": "2a605ba6-c688-41ea-e345-1128641502f3",
        "colab": {
          "base_uri": "https://localhost:8080/"
        }
      },
      "execution_count": 46,
      "outputs": [
        {
          "output_type": "stream",
          "name": "stdout",
          "text": [
            "Author identity unknown\n",
            "\n",
            "*** Please tell me who you are.\n",
            "\n",
            "Run\n",
            "\n",
            "  git config --global user.email \"you@example.com\"\n",
            "  git config --global user.name \"Your Name\"\n",
            "\n",
            "to set your account's default identity.\n",
            "Omit --global to set the identity only in this repository.\n",
            "\n",
            "fatal: unable to auto-detect email address (got 'root@d257be07db02.(none)')\n"
          ]
        }
      ]
    },
    {
      "cell_type": "code",
      "source": [
        "!git status"
      ],
      "metadata": {
        "id": "AR__wf9_jpv2",
        "outputId": "1a864f1f-9130-4317-c3cf-6b47ac04e814",
        "colab": {
          "base_uri": "https://localhost:8080/"
        }
      },
      "execution_count": 48,
      "outputs": [
        {
          "output_type": "stream",
          "name": "stdout",
          "text": [
            "On branch main\n",
            "Your branch is up to date with 'origin/main'.\n",
            "\n",
            "Changes to be committed:\n",
            "  (use \"git restore --staged <file>...\" to unstage)\n",
            "\t\u001b[32mnew file:   PMED/heater.ipynb\u001b[m\n",
            "\n",
            "Untracked files:\n",
            "  (use \"git add <file>...\" to include in what will be committed)\n",
            "\t\u001b[31mPMD/\u001b[m\n",
            "\n"
          ]
        }
      ]
    },
    {
      "cell_type": "code",
      "source": [
        "!git commit -m \"git notebook to\""
      ],
      "metadata": {
        "id": "XoaNs5MyjrlZ",
        "outputId": "1ae34cf9-699d-4314-f502-3550537c5885",
        "colab": {
          "base_uri": "https://localhost:8080/"
        }
      },
      "execution_count": 49,
      "outputs": [
        {
          "output_type": "stream",
          "name": "stdout",
          "text": [
            "Author identity unknown\n",
            "\n",
            "*** Please tell me who you are.\n",
            "\n",
            "Run\n",
            "\n",
            "  git config --global user.email \"you@example.com\"\n",
            "  git config --global user.name \"Your Name\"\n",
            "\n",
            "to set your account's default identity.\n",
            "Omit --global to set the identity only in this repository.\n",
            "\n",
            "fatal: unable to auto-detect email address (got 'root@d257be07db02.(none)')\n"
          ]
        }
      ]
    },
    {
      "cell_type": "code",
      "source": [
        "!git config --global user.name \"Mohammad\""
      ],
      "metadata": {
        "id": "raRFZoKGj2AH"
      },
      "execution_count": 50,
      "outputs": []
    },
    {
      "cell_type": "code",
      "source": [
        "!git config --global user.email \"mmfd25285@gmail.com\""
      ],
      "metadata": {
        "id": "szmdCZ_6kE33"
      },
      "execution_count": 51,
      "outputs": []
    },
    {
      "cell_type": "code",
      "source": [
        "!git commit -m 'git notebook'"
      ],
      "metadata": {
        "id": "aQfF3BZYkMHU",
        "outputId": "01ece95c-4ea7-4dfe-99c9-c4a13a90f0fd",
        "colab": {
          "base_uri": "https://localhost:8080/"
        }
      },
      "execution_count": 52,
      "outputs": [
        {
          "output_type": "stream",
          "name": "stdout",
          "text": [
            "[main 2fff29c] git notebook\n",
            " 1 file changed, 210 insertions(+)\n",
            " create mode 100644 PMED/heater.ipynb\n"
          ]
        }
      ]
    },
    {
      "cell_type": "code",
      "source": [
        "!git status"
      ],
      "metadata": {
        "id": "rwv_DpFdkSqm",
        "outputId": "77aecc60-80ab-4204-d38d-97c5a4d558da",
        "colab": {
          "base_uri": "https://localhost:8080/"
        }
      },
      "execution_count": 59,
      "outputs": [
        {
          "output_type": "stream",
          "name": "stdout",
          "text": [
            "On branch main\n",
            "Your branch is ahead of 'origin/main' by 1 commit.\n",
            "  (use \"git push\" to publish your local commits)\n",
            "\n",
            "nothing to commit, working tree clean\n"
          ]
        }
      ]
    },
    {
      "cell_type": "code",
      "source": [
        "!git log"
      ],
      "metadata": {
        "id": "CImzgBMZlFEB",
        "outputId": "86a2c17c-feb6-4177-df26-986b1c29c701",
        "colab": {
          "base_uri": "https://localhost:8080/"
        }
      },
      "execution_count": 58,
      "outputs": [
        {
          "output_type": "stream",
          "name": "stdout",
          "text": [
            "\u001b[33mcommit 2fff29c368e5e1f1b2f69305d29ee212b944a502\u001b[m\u001b[33m (\u001b[m\u001b[1;36mHEAD -> \u001b[m\u001b[1;32mmain\u001b[m\u001b[33m)\u001b[m\n",
            "Author: Mohammad <mmfd25285@gmail.com>\n",
            "Date:   Wed Jul 9 05:03:23 2025 +0000\n",
            "\n",
            "    git notebook\n",
            "\n",
            "\u001b[33mcommit 86a868e0d3d10450685807e02e358952bfb65aaa\u001b[m\u001b[33m (\u001b[m\u001b[1;31morigin/main\u001b[m\u001b[33m, \u001b[m\u001b[1;31morigin/HEAD\u001b[m\u001b[33m)\u001b[m\n",
            "Author: Mohammad Balaghi <90974745+MohammadDeep@users.noreply.github.com>\n",
            "Date:   Wed Jul 9 08:19:03 2025 +0330\n",
            "\n",
            "    Created using Colab\n",
            "\n",
            "\u001b[33mcommit a1f583d32f26224c1dd4af25b943c3633983167a\u001b[m\n",
            "Author: Mohammad Balaghi <90974745+MohammadDeep@users.noreply.github.com>\n",
            "Date:   Wed Jul 9 08:11:55 2025 +0330\n",
            "\n",
            "    Delete Untitled2.ipynb\n",
            "    \n",
            "    delet file\n",
            "\n",
            "\u001b[33mcommit 2a6fe602b002f7adc79005e037d1fc858dd8b645\u001b[m\n",
            "Author: Mohammad Balaghi <90974745+MohammadDeep@users.noreply.github.com>\n",
            "Date:   Wed Jul 9 08:06:18 2025 +0330\n",
            "\n",
            "    Update README.md\n",
            "    \n",
            "    add text\n",
            "\n",
            "\u001b[33mcommit 416711229af15e26f402f8a1bae95d77e7eba844\u001b[m\n",
            "Author: Mohammad Balaghi <90974745+MohammadDeep@users.noreply.github.com>\n",
            "Date:   Wed Jul 9 08:04:09 2025 +0330\n",
            "\n",
            "    Creat new data\n",
            "\n",
            "\u001b[33mcommit 0f5590794f3753f27970ad11ac12663c46348418\u001b[m\n",
            "Merge: 4d5f43e e8b9c22\n",
            "Author: Philip Gouverneur <111120410+gouverneurp@users.noreply.github.com>\n",
            "Date:   Tue May 27 12:01:50 2025 +0200\n",
            "\n",
            "    Merge pull request #3 from gouverneurp/gouverneurp-update-generat-description-in-readmde\n",
            "    \n",
            "    Improved general description in README.md\n",
            "\n",
            "\u001b[33mcommit e8b9c2200b1c34673272986d1f50cc32480d0dd4\u001b[m\n",
            "Author: Philip Gouverneur <111120410+gouverneurp@users.noreply.github.com>\n",
            "Date:   Tue May 27 12:00:17 2025 +0200\n",
            "\n",
            "    Update README.md\n",
            "\n",
            "\u001b[33mcommit 6fd9ff8ebbb5f291d7605e9ece1d373e53d3741d\u001b[m\n",
            "Author: Philip Gouverneur <111120410+gouverneurp@users.noreply.github.com>\n",
            "Date:   Tue May 27 11:58:23 2025 +0200\n",
            "\n",
            "    Improved general description in README.md\n",
            "\n",
            "\u001b[33mcommit 4d5f43e814a7c130560d5884be64c98ac4037374\u001b[m\n",
            "Merge: 2760a77 249ebe9\n",
            "Author: Philip Gouverneur <111120410+gouverneurp@users.noreply.github.com>\n",
            "Date:   Mon May 26 13:46:24 2025 +0200\n",
            "\n",
            "    Merge pull request #2 from gouverneurp/gouverneurp-add-info-in-readme\n",
            "    \n",
            "    Add bibtex of paper and links to README.md\n",
            "\n",
            "\u001b[33mcommit 249ebe9ef9c8d5759ebc53d9635bcfc3e1153380\u001b[m\n",
            "Author: Philip Gouverneur <111120410+gouverneurp@users.noreply.github.com>\n",
            "Date:   Mon May 26 13:43:37 2025 +0200\n",
            "\n",
            "    Add bibtex of paper and links to README.md\n",
            "\n",
            "\u001b[33mcommit 2760a77c0e916b2564d3db3bbccee3916f661131\u001b[m\n",
            "Author: Philip Gouverneur <philipgouverneur@gmx.de>\n",
            "Date:   Fri Jul 12 19:42:28 2024 +0200\n",
            "\n",
            "    Readme++\n",
            "\n",
            "\u001b[33mcommit f5a53ea9c3413f04182a7d58492cbac06dca8d33\u001b[m\n",
            "Author: Philip Gouverneur <philipgouverneur@gmx.de>\n",
            "Date:   Thu Jun 27 18:44:13 2024 +0200\n",
            "\n",
            "    Highlight some parts in readme\n",
            "\n",
            "\u001b[33mcommit d7152885aa5b64e3bc1af18ac341992bc181d8f9\u001b[m\n",
            "Author: Philip Gouverneur <philipgouverneur@gmx.de>\n",
            "Date:   Thu Jun 27 18:41:20 2024 +0200\n",
            "\n",
            "    Init\n"
          ]
        }
      ]
    },
    {
      "cell_type": "code",
      "source": [],
      "metadata": {
        "id": "Kq27sPB8lGiL"
      },
      "execution_count": null,
      "outputs": []
    }
  ]
}